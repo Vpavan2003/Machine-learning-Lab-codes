{
 "cells": [
  {
   "cell_type": "code",
   "execution_count": 2,
   "id": "bba76c5f",
   "metadata": {},
   "outputs": [
    {
     "name": "stdout",
     "output_type": "stream",
     "text": [
      "The shape of samples and featuresis:\n",
      "  (16384, 13) (16384, 1)\n",
      "(16384, 13) (16384,)\n"
     ]
    }
   ],
   "source": [
    "import numpy as np\n",
    "import pandas as pd\n",
    "from matplotlib import pyplot as plt\n",
    "from sklearn import preprocessing as prepro \n",
    "\n",
    "#Insert your features and labels\n",
    "samples = np.load('activation_maps_lines_image52_pixel.npy')\n",
    "features = np.load('activation_maps_lines_image52_labelpixel.npy')\n",
    "\n",
    "print(\"The shape of samples and featuresis:\\n \",samples.shape,features.shape)\n",
    "# Reshape your data  (pixels x features)\n",
    "samples_num = samples.shape[0]   # Total number of pixels\n",
    "features_num = samples.shape[1]  # Number of features for each pixel\n",
    "X_reshaped = samples.reshape(samples_num,features_num)\n",
    "y_reshaped = features.reshape(samples_num)  # Assuming y is your pixel-wise label mask\n",
    "print(X_reshaped.shape,y_reshaped.shape)"
   ]
  },
  {
   "cell_type": "code",
   "execution_count": 3,
   "id": "a25a80a8",
   "metadata": {},
   "outputs": [
    {
     "name": "stdout",
     "output_type": "stream",
     "text": [
      "<class 'pandas.core.frame.DataFrame'>\n",
      "RangeIndex: 16384 entries, 0 to 16383\n",
      "Data columns (total 14 columns):\n",
      " #   Column  Non-Null Count  Dtype  \n",
      "---  ------  --------------  -----  \n",
      " 0   0       16384 non-null  float64\n",
      " 1   1       16384 non-null  float64\n",
      " 2   2       16384 non-null  float64\n",
      " 3   3       16384 non-null  float64\n",
      " 4   4       16384 non-null  float64\n",
      " 5   5       16384 non-null  float64\n",
      " 6   6       16384 non-null  float64\n",
      " 7   7       16384 non-null  float64\n",
      " 8   8       16384 non-null  float64\n",
      " 9   9       16384 non-null  float64\n",
      " 10  10      16384 non-null  float64\n",
      " 11  11      16384 non-null  float64\n",
      " 12  12      16384 non-null  float64\n",
      " 13  13      16384 non-null  uint8  \n",
      "dtypes: float64(13), uint8(1)\n",
      "memory usage: 1.6 MB\n"
     ]
    }
   ],
   "source": [
    "samples = pd.DataFrame(samples,columns=np.arange(0,13))\n",
    "samples['13']=features # Adding features coulmn into the samples dataset \n",
    "samples.info() "
   ]
  },
  {
   "cell_type": "code",
   "execution_count": 6,
   "id": "5bf683e1",
   "metadata": {},
   "outputs": [
    {
     "data": {
      "text/plain": [
       "<matplotlib.collections.PathCollection at 0x1d9b720fd00>"
      ]
     },
     "execution_count": 6,
     "metadata": {},
     "output_type": "execute_result"
    },
    {
     "data": {
      "image/png": "[encoded data removed]",
      "text/plain": [
       "<Figure size 432x288 with 1 Axes>"
      ]
     },
     "metadata": {
      "needs_background": "light"
     },
     "output_type": "display_data"
    }
   ],
   "source": [
    "# Question A1\n",
    "feature_1=samples[5]\n",
    "feature_2=samples[6]\n",
    "plt.scatter(feature_1,feature_2)"
   ]
  },
  {
   "cell_type": "code",
   "execution_count": 15,
   "id": "e5b1f9bf",
   "metadata": {},
   "outputs": [],
   "source": [
    "# Question A2\n",
    "from sklearn import datasets, linear_model\n",
    "from sklearn.metrics import mean_squared_error, r2_score\n",
    "from sklearn.model_selection import train_test_split\n",
    "independent_feature=pd.DataFrame(samples[5])\n",
    "dependent_feature  =pd.DataFrame(samples['13'])\n",
    "# Split the reshaped data into training and testing sets\n",
    "X_train, X_test, y_train, y_test = train_test_split(independent_feature, dependent_feature, test_size=0.2, random_state=42)\n",
    "linear_regression=linear_model.LinearRegression()\n",
    "linear_regression.fit(X_train,y_train)\n",
    "linear_regression_predict=linear_regression.predict(X_test)"
   ]
  },
  {
   "cell_type": "code",
   "execution_count": 17,
   "id": "8def0e3f",
   "metadata": {},
   "outputs": [
    {
     "name": "stdout",
     "output_type": "stream",
     "text": [
      "Mean Sqaured error: 13463.94\n"
     ]
    }
   ],
   "source": [
    "print(\"Mean Sqaured error: %.2f\" % mean_squared_error(y_test,linear_regression_predict))"
   ]
  },
  {
   "cell_type": "code",
   "execution_count": 18,
   "id": "8fcc851e",
   "metadata": {},
   "outputs": [
    {
     "data": {
      "text/plain": [
       "[<matplotlib.lines.Line2D at 0x1d9b7e4d520>]"
      ]
     },
     "execution_count": 18,
     "metadata": {},
     "output_type": "execute_result"
    },
    {
     "data": {
      "image/png": "[encoded data removed]",
      "text/plain": [
       "<Figure size 432x288 with 1 Axes>"
      ]
     },
     "metadata": {
      "needs_background": "light"
     },
     "output_type": "display_data"
    }
   ],
   "source": [
    "plt.scatter(X_test,y_test,color=\"red\")\n",
    "plt.plot(X_test,linear_regression_predict,color=\"black\",linewidth=3)"
   ]
  },
  {
   "cell_type": "code",
   "execution_count": null,
   "id": "2b3f49f8",
   "metadata": {},
   "outputs": [],
   "source": []
  }
 ],
 "metadata": {
  "kernelspec": {
   "display_name": "Python 3 (ipykernel)",
   "language": "python",
   "name": "python3"
  },
  "language_info": {
   "codemirror_mode": {
    "name": "ipython",
    "version": 3
   },
   "file_extension": ".py",
   "mimetype": "text/x-python",
   "name": "python",
   "nbconvert_exporter": "python",
   "pygments_lexer": "ipython3",
   "version": "3.9.7"
  }
 },
 "nbformat": 4,
 "nbformat_minor": 5
}
