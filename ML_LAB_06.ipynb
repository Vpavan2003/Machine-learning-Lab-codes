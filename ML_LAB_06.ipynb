{
 "cells": [
  {
   "cell_type": "code",
   "execution_count": 27,
   "id": "bba76c5f",
   "metadata": {},
   "outputs": [
    {
     "name": "stdout",
     "output_type": "stream",
     "text": [
      "The shape of samples and featuresis:\n",
      "  (16384, 13) (16384, 1)\n",
      "(16384, 13) (16384,)\n"
     ]
    }
   ],
   "source": [
    "import numpy as np\n",
    "import pandas as pd\n",
    "from matplotlib import pyplot as plt\n",
    "from sklearn import preprocessing as prepro \n",
    "\n",
    "#Insert your features and labels\n",
    "samples = np.load('activation_maps_lines_image52_pixel.npy')\n",
    "features = np.load('activation_maps_lines_image52_labelpixel.npy')\n",
    "\n",
    "print(\"The shape of samples and featuresis:\\n \",samples.shape,features.shape)\n",
    "# Reshape your data  (pixels x features)\n",
    "samples_num = samples.shape[0]   # Total number of pixels\n",
    "features_num = samples.shape[1]  # Number of features for each pixel\n",
    "X_reshaped = samples.reshape(samples_num,features_num)\n",
    "y_reshaped = features.reshape(samples_num)  # Assuming y is your pixel-wise label mask\n",
    "print(X_reshaped.shape,y_reshaped.shape)"
   ]
  },
  {
   "cell_type": "code",
   "execution_count": 28,
   "id": "a25a80a8",
   "metadata": {},
   "outputs": [
    {
     "name": "stdout",
     "output_type": "stream",
     "text": [
      "<class 'pandas.core.frame.DataFrame'>\n",
      "RangeIndex: 16384 entries, 0 to 16383\n",
      "Data columns (total 14 columns):\n",
      " #   Column  Non-Null Count  Dtype  \n",
      "---  ------  --------------  -----  \n",
      " 0   0       16384 non-null  float64\n",
      " 1   1       16384 non-null  float64\n",
      " 2   2       16384 non-null  float64\n",
      " 3   3       16384 non-null  float64\n",
      " 4   4       16384 non-null  float64\n",
      " 5   5       16384 non-null  float64\n",
      " 6   6       16384 non-null  float64\n",
      " 7   7       16384 non-null  float64\n",
      " 8   8       16384 non-null  float64\n",
      " 9   9       16384 non-null  float64\n",
      " 10  10      16384 non-null  float64\n",
      " 11  11      16384 non-null  float64\n",
      " 12  12      16384 non-null  float64\n",
      " 13  13      16384 non-null  uint8  \n",
      "dtypes: float64(13), uint8(1)\n",
      "memory usage: 1.6 MB\n"
     ]
    }
   ],
   "source": [
    "samples = pd.DataFrame(samples,columns=np.arange(0,13))\n",
    "samples['13']=features # Adding features coulmn into the samples dataset \n",
    "samples.info() "
   ]
  },
  {
   "cell_type": "code",
   "execution_count": 29,
   "id": "5bf683e1",
   "metadata": {},
   "outputs": [
    {
     "data": {
      "text/plain": [
       "<matplotlib.collections.PathCollection at 0x29b3c807310>"
      ]
     },
     "execution_count": 29,
     "metadata": {},
     "output_type": "execute_result"
    },
    {
     "data": {
      "image/png": "[encoded data removed]",
      "text/plain": [
       "<Figure size 432x288 with 1 Axes>"
      ]
     },
     "metadata": {
      "needs_background": "light"
     },
     "output_type": "display_data"
    }
   ],
   "source": [
    "# Question A1\n",
    "feature_1=samples[11]\n",
    "feature_2=samples[12]\n",
    "plt.scatter(feature_1,feature_2)"
   ]
  },
  {
   "cell_type": "code",
   "execution_count": 30,
   "id": "e5b1f9bf",
   "metadata": {},
   "outputs": [],
   "source": [
    "# Question A2\n",
    "from sklearn import datasets, linear_model\n",
    "from sklearn.metrics import mean_squared_error, r2_score\n",
    "from sklearn.model_selection import train_test_split\n",
    "independent_feature=pd.DataFrame(samples[11])\n",
    "dependent_feature  =pd.DataFrame(samples['13'])\n",
    "# Split the reshaped data into training and testing sets\n",
    "X_train, X_test, y_train, y_test = train_test_split(independent_feature, dependent_feature, test_size=0.2, random_state=42)\n",
    "linear_regression=linear_model.LinearRegression()\n",
    "linear_regression.fit(X_train,y_train)\n",
    "linear_regression_predict=linear_regression.predict(X_test)"
   ]
  },
  {
   "cell_type": "code",
   "execution_count": 31,
   "id": "8def0e3f",
   "metadata": {},
   "outputs": [
    {
     "name": "stdout",
     "output_type": "stream",
     "text": [
      "Mean Sqaured error: 13464.25\n"
     ]
    }
   ],
   "source": [
    "print(\"Mean Sqaured error: %.2f\" % mean_squared_error(y_test,linear_regression_predict))"
   ]
  },
  {
   "cell_type": "code",
   "execution_count": 32,
   "id": "8fcc851e",
   "metadata": {},
   "outputs": [
    {
     "data": {
      "text/plain": [
       "[<matplotlib.lines.Line2D at 0x29b3d454e80>]"
      ]
     },
     "execution_count": 32,
     "metadata": {},
     "output_type": "execute_result"
    },
    {
     "data": {
      "image/png": "[encoded data removed]",
      "text/plain": [
       "<Figure size 432x288 with 1 Axes>"
      ]
     },
     "metadata": {
      "needs_background": "light"
     },
     "output_type": "display_data"
    }
   ],
   "source": [
    "plt.scatter(X_test,y_test,color=\"red\")\n",
    "plt.plot(X_test,linear_regression_predict,color=\"black\",linewidth=3)"
   ]
  },
  {
   "cell_type": "code",
   "execution_count": 42,
   "id": "d3065c39",
   "metadata": {},
   "outputs": [
    {
     "name": "stdout",
     "output_type": "stream",
     "text": [
      "The mean value of class 1: \n",
      " 11    0.000242\n",
      "dtype: float64\n",
      "The mean value of class 2: \n",
      " 13    157.484619\n",
      "dtype: float64\n",
      "The value of theta_1 : \n",
      " 11    0.0\n",
      "13    NaN\n",
      "dtype: float64\n",
      "The value of theta_0 : \n",
      " 11    0.017235\n",
      "13         NaN\n",
      "dtype: float64\n"
     ]
    }
   ],
   "source": [
    "# Question A3\n",
    "independent_feature_mean=independent_feature.mean()\n",
    "print(\"The mean value of class 1: \\n\",independent_feature_mean)\n",
    "dependent_feature_mean=dependent_feature.mean()\n",
    "print(\"The mean value of class 2: \\n\",dependent_feature_mean)\n",
    "theta_1 = np.sum((independent_feature - independent_feature_mean) * (dependent_feature - dependent_feature_mean)) / np.sum((independent_feature - independent_feature_mean) ** 2)\n",
    "print(\"The value of theta_1 : \\n\",theta_1)\n",
    "theta_0 = feature_2_mean - theta_1 * feature_1_mean\n",
    "print(\"The value of theta_0 : \\n\",theta_0)"
   ]
  },
  {
   "cell_type": "code",
   "execution_count": 34,
   "id": "2b3f49f8",
   "metadata": {},
   "outputs": [
    {
     "name": "stdout",
     "output_type": "stream",
     "text": [
      "Accuracy: 56.12%\n",
      "Mean Sqaured error: 0.55\n"
     ]
    }
   ],
   "source": [
    "# Question A4\n",
    "from sklearn.linear_model import LogisticRegression\n",
    "from sklearn.metrics import accuracy_score\n",
    "from sklearn.model_selection import train_test_split\n",
    "class_1 = samples.loc[:, samples.columns[:13]]\n",
    "class_2 = samples.loc[:, samples.columns[13]]\n",
    "data_train, data_test, output_train, output_test = train_test_split(class_1, class_2, test_size=0.2, random_state=42)\n",
    "logreg = LogisticRegression()\n",
    "# Train the model using the training set\n",
    "logreg.fit(data_train, output_train)\n",
    "# Make predictions on the test set\n",
    "y_pred = logreg.predict(data_test)\n",
    "\n",
    "# Calculate accuracy\n",
    "accuracy = accuracy_score(output_test, y_pred)\n",
    "print(\"Accuracy: {:.2f}%\".format(accuracy * 100))\n",
    "print(\"Mean Sqaured error: %.2f\" % mean_squared_error(output_test,y_pred))"
   ]
  },
  {
   "cell_type": "code",
   "execution_count": 40,
   "id": "265b4cc2",
   "metadata": {},
   "outputs": [
    {
     "name": "stdout",
     "output_type": "stream",
     "text": [
      "Mean Squared Error: 1.6508651470651024e-06\n",
      "Predicted Value for [[0.        ]\n",
      " [0.        ]\n",
      " [0.        ]\n",
      " ...\n",
      " [0.        ]\n",
      " [0.00392157]\n",
      " [0.        ]]: [0.07320261 0.07320261 0.07320261 ... 0.07320261 0.0745098  0.07320261]\n"
     ]
    }
   ],
   "source": [
    "# Question A5\n",
    "# Knn Regressor\n",
    "from sklearn.neighbors import KNeighborsRegressor\n",
    "X_train, X_test, y_train, y_test = train_test_split(feature_1, feature_2, test_size=0.2, random_state=42)\n",
    "X_train=X_train.values.reshape(-1,1)\n",
    "X_test=X_test.values.reshape(-1,1)\n",
    "k = 3\n",
    "knn_regressor = KNeighborsRegressor(n_neighbors=k)\n",
    "knn_regressor.fit(X_train, y_train)\n",
    "y_pred = knn_regressor.predict(X_test)\n",
    "mse = mean_squared_error(y_test, y_pred)\n",
    "print(\"Mean Squared Error:\", mse)\n",
    "check_data = samples[7]\n",
    "check_data=check_data.values.reshape(-1,1)\n",
    "predicted_value = knn_regressor.predict(check_data)\n",
    "print(\"Predicted Value for {}: {}\".format(check_data, predicted_value))\n"
   ]
  },
  {
   "cell_type": "code",
   "execution_count": 41,
   "id": "b01f65b3",
   "metadata": {},
   "outputs": [
    {
     "name": "stdout",
     "output_type": "stream",
     "text": [
      "Mean Squared Error: 9.842085359383483e-08\n",
      "Predicted Value for [[0.        ]\n",
      " [0.        ]\n",
      " [0.        ]\n",
      " ...\n",
      " [0.        ]\n",
      " [0.00392157]\n",
      " [0.        ]]: [0.07448438 0.07448438 0.07448438 ... 0.07448438 0.07440382 0.07448438]\n"
     ]
    }
   ],
   "source": [
    "# Decision tree regressor\n",
    "from sklearn.tree import DecisionTreeRegressor\n",
    "Decision_X_train, Decision_X_test, Decision_y_train, Decision_y_test = train_test_split(feature_1, feature_2, test_size=0.2, random_state=42)\n",
    "Decision_X_train=Decision_X_train.values.reshape(-1,1)\n",
    "Decision_X_test=Decision_X_test.values.reshape(-1,1)\n",
    "decision_tree_regressor = DecisionTreeRegressor(random_state=42)\n",
    "decision_tree_regressor.fit(Decision_X_train, Decision_y_train)\n",
    "Decision_y_predict = decision_tree_regressor.predict(Decision_X_test)\n",
    "mean_error = mean_squared_error(Decision_y_test, Decision_y_predict)\n",
    "print(\"Mean Squared Error:\", mean_error)\n",
    "check_data = samples[7]\n",
    "check_data=check_data.values.reshape(-1,1)\n",
    "predicted_value = decision_tree_regressor.predict(check_data)\n",
    "print(\"Predicted Value for {}: {}\".format(check_data, predicted_value))"
   ]
  },
  {
   "cell_type": "code",
   "execution_count": null,
   "id": "f4ef7f47",
   "metadata": {},
   "outputs": [],
   "source": []
  }
 ],
 "metadata": {
  "kernelspec": {
   "display_name": "Python 3 (ipykernel)",
   "language": "python",
   "name": "python3"
  },
  "language_info": {
   "codemirror_mode": {
    "name": "ipython",
    "version": 3
   },
   "file_extension": ".py",
   "mimetype": "text/x-python",
   "name": "python",
   "nbconvert_exporter": "python",
   "pygments_lexer": "ipython3",
   "version": "3.9.7"
  }
 },
 "nbformat": 4,
 "nbformat_minor": 5
}
