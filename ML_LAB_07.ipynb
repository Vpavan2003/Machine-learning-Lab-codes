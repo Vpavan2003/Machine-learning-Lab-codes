{
 "cells": [
  {
   "cell_type": "code",
   "execution_count": 2,
   "id": "0e2604d4",
   "metadata": {},
   "outputs": [
    {
     "name": "stdout",
     "output_type": "stream",
     "text": [
      "The shape of samples and featuresis:\n",
      "  (16384, 13) (16384, 1)\n",
      "(16384, 13) (16384,)\n"
     ]
    }
   ],
   "source": [
    "import numpy as np\n",
    "import pandas as pd\n",
    "from matplotlib import pyplot as plt\n",
    "from sklearn import preprocessing as prepro \n",
    "\n",
    "#Insert your features and labels\n",
    "samples = np.load('activation_maps_lines_image52_pixel.npy')\n",
    "features = np.load('activation_maps_lines_image52_labelpixel.npy')\n",
    "\n",
    "print(\"The shape of samples and featuresis:\\n \",samples.shape,features.shape)\n",
    "# Reshape your data  (pixels x features)\n",
    "samples_num = samples.shape[0]   # Total number of pixels\n",
    "features_num = samples.shape[1]  # Number of features for each pixel\n",
    "X_reshaped = samples.reshape(samples_num,features_num)\n",
    "y_reshaped = features.reshape(samples_num)  # Assuming y is your pixel-wise label mask\n",
    "print(X_reshaped.shape,y_reshaped.shape)"
   ]
  },
  {
   "cell_type": "code",
   "execution_count": 3,
   "id": "3b75d9cc",
   "metadata": {},
   "outputs": [
    {
     "name": "stdout",
     "output_type": "stream",
     "text": [
      "<class 'pandas.core.frame.DataFrame'>\n",
      "RangeIndex: 16384 entries, 0 to 16383\n",
      "Data columns (total 14 columns):\n",
      " #   Column  Non-Null Count  Dtype  \n",
      "---  ------  --------------  -----  \n",
      " 0   0       16384 non-null  float64\n",
      " 1   1       16384 non-null  float64\n",
      " 2   2       16384 non-null  float64\n",
      " 3   3       16384 non-null  float64\n",
      " 4   4       16384 non-null  float64\n",
      " 5   5       16384 non-null  float64\n",
      " 6   6       16384 non-null  float64\n",
      " 7   7       16384 non-null  float64\n",
      " 8   8       16384 non-null  float64\n",
      " 9   9       16384 non-null  float64\n",
      " 10  10      16384 non-null  float64\n",
      " 11  11      16384 non-null  float64\n",
      " 12  12      16384 non-null  float64\n",
      " 13  13      16384 non-null  uint8  \n",
      "dtypes: float64(13), uint8(1)\n",
      "memory usage: 1.6 MB\n"
     ]
    }
   ],
   "source": [
    "samples = pd.DataFrame(samples,columns=np.arange(0,13))\n",
    "samples['13']=features # Adding features coulmn into the samples dataset \n",
    "samples.info() "
   ]
  },
  {
   "cell_type": "code",
   "execution_count": 4,
   "id": "ee4c6b80",
   "metadata": {},
   "outputs": [],
   "source": [
    "class_1 = samples.loc[:, samples.columns[:13]]\n",
    "class_2 = samples.loc[:, samples.columns[13]]"
   ]
  },
  {
   "cell_type": "code",
   "execution_count": 5,
   "id": "4b125b10",
   "metadata": {},
   "outputs": [],
   "source": [
    "# Question A1\n",
    "from sklearn.model_selection import train_test_split\n",
    "from sklearn.metrics import accuracy_score\n",
    "# Split the reshaped data into training and testing sets\n",
    "data_train, data_test, output_train, output_test = train_test_split(class_1, class_2, test_size=0.3, random_state=42)"
   ]
  },
  {
   "cell_type": "code",
   "execution_count": 6,
   "id": "78c7ebe6",
   "metadata": {},
   "outputs": [
    {
     "data": {
      "text/plain": [
       "SVC()"
      ]
     },
     "execution_count": 6,
     "metadata": {},
     "output_type": "execute_result"
    }
   ],
   "source": [
    "from sklearn import svm\n",
    "clf = svm.SVC()\n",
    "clf.fit(data_train, output_train)\n"
   ]
  },
  {
   "cell_type": "code",
   "execution_count": 7,
   "id": "21f9ff18",
   "metadata": {},
   "outputs": [
    {
     "name": "stdout",
     "output_type": "stream",
     "text": [
      "Support Vectors:\n",
      "[[0.00392157 0.         0.01176471 ... 0.         0.         0.0745098 ]\n",
      " [0.         0.         0.         ... 0.         0.00784314 0.07058824]\n",
      " [0.         0.01176471 0.         ... 0.         0.         0.0745098 ]\n",
      " ...\n",
      " [0.01568627 0.00392157 0.00784314 ... 0.         0.         0.0745098 ]\n",
      " [0.01960784 0.01568627 0.00784314 ... 0.         0.         0.0745098 ]\n",
      " [0.         0.00784314 0.         ... 0.         0.         0.0745098 ]]\n"
     ]
    }
   ],
   "source": [
    "support_vectors = clf.support_vectors_\n",
    "print(\"Support Vectors:\")\n",
    "print(support_vectors)"
   ]
  },
  {
   "cell_type": "code",
   "execution_count": 8,
   "id": "7ad48917",
   "metadata": {},
   "outputs": [
    {
     "name": "stdout",
     "output_type": "stream",
     "text": [
      "Accuracy: 0.5593978844589097\n"
     ]
    }
   ],
   "source": [
    "# Question A2\n",
    "accuracy = clf.score(data_test, output_test)\n",
    "print(f\"Accuracy: {accuracy}\")"
   ]
  },
  {
   "cell_type": "code",
   "execution_count": 11,
   "id": "cb71bf23",
   "metadata": {},
   "outputs": [
    {
     "name": "stdout",
     "output_type": "stream",
     "text": [
      " the output is:  [255]\n"
     ]
    }
   ],
   "source": [
    "# Question A3:\n",
    "# Predict a given input to a class value\n",
    "print(\" the output is: \", clf.predict([class_1.iloc[11, :]]))"
   ]
  },
  {
   "cell_type": "code",
   "execution_count": 14,
   "id": "0653e6ad",
   "metadata": {},
   "outputs": [
    {
     "name": "stdout",
     "output_type": "stream",
     "text": [
      "The model using the polynomial function gives the accuracy of:  0.5593978844589097\n"
     ]
    }
   ],
   "source": [
    "# Question A4:\n",
    "# Train the data using different kernel functions\n",
    "poly = svm.SVC(kernel='poly')\n",
    "\n",
    "poly.fit(data_train, output_train)\n",
    "print(\"The model using the polynomial function gives the accuracy of: \", poly.score(data_test, output_test))"
   ]
  },
  {
   "cell_type": "code",
   "execution_count": 15,
   "id": "b98754db",
   "metadata": {},
   "outputs": [
    {
     "name": "stdout",
     "output_type": "stream",
     "text": [
      "The model using the radial basis  function gives the accuracy of:  0.5593978844589097\n"
     ]
    }
   ],
   "source": [
    "rbf = svm.SVC(kernel='rbf')\n",
    "\n",
    "rbf.fit(data_train, output_train)\n",
    "print(\"The model using the radial basis  function gives the accuracy of: \", rbf.score(data_test, output_test))"
   ]
  },
  {
   "cell_type": "code",
   "execution_count": 16,
   "id": "7f050e4e",
   "metadata": {},
   "outputs": [
    {
     "name": "stdout",
     "output_type": "stream",
     "text": [
      "The model using the sigmoid  function gives the accuracy of:  0.5494304312449145\n"
     ]
    }
   ],
   "source": [
    "sigmoid = svm.SVC(kernel='sigmoid')\n",
    "\n",
    "sigmoid.fit(data_train, output_train)\n",
    "print(\"The model using the sigmoid  function gives the accuracy of: \", sigmoid.score(data_test, output_test))"
   ]
  },
  {
   "cell_type": "code",
   "execution_count": 17,
   "id": "0ddeb418",
   "metadata": {},
   "outputs": [
    {
     "name": "stdout",
     "output_type": "stream",
     "text": [
      "The model using the linear  function gives the accuracy of:  0.5593978844589097\n"
     ]
    }
   ],
   "source": [
    "linear = svm.SVC(kernel='linear')\n",
    "\n",
    "linear.fit(data_train, output_train)\n",
    "print(\"The model using the linear  function gives the accuracy of: \", linear.score(data_test, output_test))"
   ]
  },
  {
   "cell_type": "code",
   "execution_count": null,
   "id": "e13289e5",
   "metadata": {},
   "outputs": [],
   "source": []
  }
 ],
 "metadata": {
  "kernelspec": {
   "display_name": "Python 3 (ipykernel)",
   "language": "python",
   "name": "python3"
  },
  "language_info": {
   "codemirror_mode": {
    "name": "ipython",
    "version": 3
   },
   "file_extension": ".py",
   "mimetype": "text/x-python",
   "name": "python",
   "nbconvert_exporter": "python",
   "pygments_lexer": "ipython3",
   "version": "3.9.7"
  }
 },
 "nbformat": 4,
 "nbformat_minor": 5
}
