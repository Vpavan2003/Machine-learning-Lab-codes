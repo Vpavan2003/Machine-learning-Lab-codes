{
 "cells": [
  {
   "cell_type": "code",
   "execution_count": 1,
   "id": "eca4a38a",
   "metadata": {},
   "outputs": [],
   "source": [
    "import pandas as pd\n",
    "import numpy as np\n",
    "#Insert your features and labels\n",
    "samples = np.load(r'D:\\Downloads Folder\\activation_maps_lines_image52_pixel.npy')\n",
    "features = np.load(r'D:\\Downloads Folder\\activation_maps_lines_image52_labelpixel.npy')"
   ]
  },
  {
   "cell_type": "code",
   "execution_count": 2,
   "id": "23d748bb",
   "metadata": {},
   "outputs": [
    {
     "name": "stdout",
     "output_type": "stream",
     "text": [
      "        age  income student credit_rating buys_computer\n",
      "0      <=30    high      no          fair            no\n",
      "1      <=30    high      no     excellent            no\n",
      "2   31...40    high      no          fair           yes\n",
      "3       >40  medium      no          fair           yes\n",
      "4       >40     low     yes          fair           yes\n",
      "5       >40     low     yes     excellent            no\n",
      "6   31...40     low     yes     excellent           yes\n",
      "7      <=30  medium      no          fair            no\n",
      "8      <=30     low     yes          fair           yes\n",
      "9       >40  medium     yes          fair           yes\n",
      "10     <=30  medium     yes     excellent           yes\n",
      "11  31...40  medium      no     excellent           yes\n",
      "12  31...40    high     yes          fair           yes\n",
      "13      >40  medium      no     excellent            no\n"
     ]
    }
   ],
   "source": [
    "table = {\n",
    "    'age': ['<=30', '<=30', '31...40', '>40', '>40', '>40', '31...40', '<=30', '<=30', '>40', '<=30', '31...40', '31...40', '>40'],\n",
    "    'income': ['high', 'high', 'high', 'medium', 'low', 'low', 'low', 'medium', 'low', 'medium', 'medium', 'medium', 'high', 'medium'],\n",
    "    'student': ['no', 'no', 'no', 'no', 'yes', 'yes', 'yes', 'no', 'yes', 'yes', 'yes', 'no', 'yes', 'no'],\n",
    "    'credit_rating': ['fair', 'excellent', 'fair', 'fair', 'fair', 'excellent', 'excellent', 'fair', 'fair', 'fair', 'excellent', 'excellent', 'fair', 'excellent'],\n",
    "    'buys_computer': ['no', 'no', 'yes', 'yes', 'yes', 'no', 'yes', 'no', 'yes', 'yes', 'yes', 'yes', 'yes', 'no']\n",
    "}\n",
    "\n",
    "dataframe = pd.DataFrame(table, index= [0,1,2,3,4,5,6,7,8,9,10,11,12,13])\n",
    "print(dataframe)"
   ]
  },
  {
   "cell_type": "code",
   "execution_count": 4,
   "id": "590872b6",
   "metadata": {},
   "outputs": [
    {
     "ename": "NameError",
     "evalue": "name 'Negative_less_than_30' is not defined",
     "output_type": "error",
     "traceback": [
      "\u001b[1;31m---------------------------------------------------------------------------\u001b[0m",
      "\u001b[1;31mNameError\u001b[0m                                 Traceback (most recent call last)",
      "\u001b[1;32m~\\AppData\\Local\\Temp/ipykernel_18288/430702313.py\u001b[0m in \u001b[0;36m<module>\u001b[1;34m\u001b[0m\n\u001b[0;32m      8\u001b[0m \u001b[0mTotal_less_equal_30\u001b[0m \u001b[1;33m=\u001b[0m \u001b[0mPositive_less_equal_30\u001b[0m \u001b[1;33m+\u001b[0m \u001b[0mNegative_less_equal_30\u001b[0m\u001b[1;33m\u001b[0m\u001b[1;33m\u001b[0m\u001b[0m\n\u001b[0;32m      9\u001b[0m \u001b[0mless_equal_30_probability_positive\u001b[0m \u001b[1;33m=\u001b[0m \u001b[0mPositive_less_equal_30\u001b[0m \u001b[1;33m/\u001b[0m \u001b[0mTotal_less_equal_30\u001b[0m\u001b[1;33m\u001b[0m\u001b[1;33m\u001b[0m\u001b[0m\n\u001b[1;32m---> 10\u001b[1;33m \u001b[0mless_equal_30_probability_negative\u001b[0m \u001b[1;33m=\u001b[0m \u001b[0mNegative_less_than_30\u001b[0m \u001b[1;33m/\u001b[0m \u001b[0mTotal_less_equal_30\u001b[0m\u001b[1;33m\u001b[0m\u001b[1;33m\u001b[0m\u001b[0m\n\u001b[0m\u001b[0;32m     11\u001b[0m \u001b[0mEntropy_less_equal_30\u001b[0m \u001b[1;33m=\u001b[0m \u001b[1;33m-\u001b[0m\u001b[1;33m(\u001b[0m\u001b[0mless_equal_30_probability_positive\u001b[0m \u001b[1;33m*\u001b[0m \u001b[0mnp\u001b[0m\u001b[1;33m.\u001b[0m\u001b[0mlog2\u001b[0m\u001b[1;33m)\u001b[0m\u001b[1;33m\u001b[0m\u001b[1;33m\u001b[0m\u001b[0m\n",
      "\u001b[1;31mNameError\u001b[0m: name 'Negative_less_than_30' is not defined"
     ]
    }
   ],
   "source": [
    "# Question A1:\n",
    "#Calculating the entropy for each attribute at root node\n",
    "Age_field = dataframe.iloc[:, 0]\n",
    "Age_less_equal_30 = Age_field == '<=30'\n",
    "Positive_less_equal_30 = Age_less_equal_30.count()\n",
    "Age_not_less_equal_30 = Age_field != '<=30'\n",
    "Negative_less_equal_30 = Age_not_less_equal_30.count()\n",
    "Total_less_equal_30 = Positive_less_equal_30 + Negative_less_equal_30\n",
    "less_equal_30_probability_positive = Positive_less_equal_30 / Total_less_equal_30\n",
    "less_equal_30_probability_negative = Negative_less_than_30 / Total_less_equal_30\n",
    "Entropy_less_equal_30 = -(less_equal_30_probability_positive * np.log2)"
   ]
  },
  {
   "cell_type": "code",
   "execution_count": null,
   "id": "bb32279a",
   "metadata": {},
   "outputs": [],
   "source": []
  }
 ],
 "metadata": {
  "kernelspec": {
   "display_name": "Python 3 (ipykernel)",
   "language": "python",
   "name": "python3"
  },
  "language_info": {
   "codemirror_mode": {
    "name": "ipython",
    "version": 3
   },
   "file_extension": ".py",
   "mimetype": "text/x-python",
   "name": "python",
   "nbconvert_exporter": "python",
   "pygments_lexer": "ipython3",
   "version": "3.9.7"
  }
 },
 "nbformat": 4,
 "nbformat_minor": 5
}
