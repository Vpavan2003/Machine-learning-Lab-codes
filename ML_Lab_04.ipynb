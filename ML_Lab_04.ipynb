{
 "cells": [
  {
   "cell_type": "code",
   "execution_count": 7,
   "id": "eca4a38a",
   "metadata": {},
   "outputs": [],
   "source": [
    "import pandas as pd\n",
    "import numpy as np\n",
    "import math\n",
    "#Insert your features and labels\n",
    "samples = np.load(r'D:\\Downloads Folder\\activation_maps_lines_image52_pixel.npy')\n",
    "features = np.load(r'D:\\Downloads Folder\\activation_maps_lines_image52_labelpixel.npy')"
   ]
  },
  {
   "cell_type": "code",
   "execution_count": 8,
   "id": "23d748bb",
   "metadata": {},
   "outputs": [
    {
     "name": "stdout",
     "output_type": "stream",
     "text": [
      "        age  income student credit_rating buys_computer\n",
      "0      <=30    high      no          fair            no\n",
      "1      <=30    high      no     excellent            no\n",
      "2   31...40    high      no          fair           yes\n",
      "3       >40  medium      no          fair           yes\n",
      "4       >40     low     yes          fair           yes\n",
      "5       >40     low     yes     excellent            no\n",
      "6   31...40     low     yes     excellent           yes\n",
      "7      <=30  medium      no          fair            no\n",
      "8      <=30     low     yes          fair           yes\n",
      "9       >40  medium     yes          fair           yes\n",
      "10     <=30  medium     yes     excellent           yes\n",
      "11  31...40  medium      no     excellent           yes\n",
      "12  31...40    high     yes          fair           yes\n",
      "13      >40  medium      no     excellent            no\n"
     ]
    }
   ],
   "source": [
    "#Creating a table\n",
    "table = {\n",
    "    'age': ['<=30', '<=30', '31...40', '>40', '>40', '>40', '31...40', '<=30', '<=30', '>40', '<=30', '31...40', '31...40', '>40'],\n",
    "    'income': ['high', 'high', 'high', 'medium', 'low', 'low', 'low', 'medium', 'low', 'medium', 'medium', 'medium', 'high', 'medium'],\n",
    "    'student': ['no', 'no', 'no', 'no', 'yes', 'yes', 'yes', 'no', 'yes', 'yes', 'yes', 'no', 'yes', 'no'],\n",
    "    'credit_rating': ['fair', 'excellent', 'fair', 'fair', 'fair', 'excellent', 'excellent', 'fair', 'fair', 'fair', 'excellent', 'excellent', 'fair', 'excellent'],\n",
    "    'buys_computer': ['no', 'no', 'yes', 'yes', 'yes', 'no', 'yes', 'no', 'yes', 'yes', 'yes', 'yes', 'yes', 'no']\n",
    "}\n",
    "\n",
    "dataframe = pd.DataFrame(table, index= [0,1,2,3,4,5,6,7,8,9,10,11,12,13])\n",
    "print(dataframe)"
   ]
  },
  {
   "cell_type": "code",
   "execution_count": 9,
   "id": "590872b6",
   "metadata": {},
   "outputs": [],
   "source": [
    "# Question A1:\n",
    "#Functions of the entropy before,after and Information gain for each attribute at root node\n",
    "def entropyBefore(data_field,attribute_value):\n",
    "    positive_data_field = data_field.value_counts()[attribute_value]\n",
    "    total_data_field = data_field.count()\n",
    "    negative_data_field = total_data_field - positive_data_field\n",
    "    positive_probability = positive_data_field / total_data_field\n",
    "    negative_probability = negative_data_field / total_data_field\n",
    "    return -(positive_probability * float(np.log2(positive_probability)) + negative_probability * float(np.log2(negative_probability)))\n",
    "\n",
    "def entropyAfter(data_field,attribute_value):\n",
    "    summation = data_field.value_counts()[attribute_value] / data_field.count()\n",
    "    return summation * entropyBefore(data_field,attribute_value)\n",
    "\n",
    "def Informationgain(data_field,attribute_value):\n",
    "    return entropyBefore(data_field,attribute_value) - entropyAfter(data_field,attribute_value)\n",
    "            \n"
   ]
  },
  {
   "cell_type": "code",
   "execution_count": 10,
   "id": "bb32279a",
   "metadata": {},
   "outputs": [
    {
     "name": "stdout",
     "output_type": "stream",
     "text": [
      "The list of attributes in age are:\n",
      "  0        <=30\n",
      "1        <=30\n",
      "2     31...40\n",
      "3         >40\n",
      "4         >40\n",
      "5         >40\n",
      "6     31...40\n",
      "7        <=30\n",
      "8        <=30\n",
      "9         >40\n",
      "10       <=30\n",
      "11    31...40\n",
      "12    31...40\n",
      "13        >40\n",
      "Name: age, dtype: object\n"
     ]
    }
   ],
   "source": [
    "# Age attributes\n",
    "attribute_of_age = dataframe.iloc[:,0]\n",
    "print(\"The list of attributes in age are:\\n \",attribute_of_age)"
   ]
  },
  {
   "cell_type": "code",
   "execution_count": 11,
   "id": "2f2245f4",
   "metadata": {},
   "outputs": [
    {
     "name": "stdout",
     "output_type": "stream",
     "text": [
      "The before entropy of the attribute age,when less than equal to 30: 0.9402859586706311\n",
      "The before entropy of the attribute age of range of 31 ro 40: 0.863120568566631\n",
      "The before entropy of the attribute age,when greater than 40:  0.9402859586706311\n"
     ]
    }
   ],
   "source": [
    "entropy_before_age_lessthan_equal_30 = entropyBefore(attribute_of_age,'<=30') #Finding the entropy before for <=30\n",
    "entropy_before_age_30_to_40_range = entropyBefore(attribute_of_age,'31...40')  #Finding the entropy before for 31...40\n",
    "entropy_before_age_greater_40 = entropyBefore(attribute_of_age,'>40')         #Finding the entropy before for >40\n",
    "\n",
    "print(\"The before entropy of the attribute age,when less than equal to 30:\",entropy_before_age_lessthan_equal_30)\n",
    "print(\"The before entropy of the attribute age of range of 31 ro 40:\",entropy_before_age_30_to_40_range)\n",
    "print(\"The before entropy of the attribute age,when greater than 40: \",entropy_before_age_greater_40)\n"
   ]
  },
  {
   "cell_type": "code",
   "execution_count": 12,
   "id": "ecb878f3",
   "metadata": {},
   "outputs": [
    {
     "name": "stdout",
     "output_type": "stream",
     "text": [
      "The after entropy of the attribute age,when less than equal to 30: 0.3358164138109397\n",
      "The after entropy of the attribute age of range of 31 ro 40: 0.24660587673332313\n",
      "The after entropy of the attribute age,when greater than 40:  0.3358164138109397\n"
     ]
    }
   ],
   "source": [
    "entropy_after_age_lessthan_equal_30 = entropyAfter(attribute_of_age,'<=30')   #Finding the entropy after for <=30\n",
    "entropy_after_age_30_to_40_range = entropyAfter(attribute_of_age,'31...40')   #Finding the entropy after for 31...40\n",
    "entropy_after_age_greater_40 = entropyAfter(attribute_of_age,'>40')          #Finding the entropy after for >40\n",
    "\n",
    "print(\"The after entropy of the attribute age,when less than equal to 30:\",entropy_after_age_lessthan_equal_30)\n",
    "print(\"The after entropy of the attribute age of range of 31 ro 40:\",entropy_after_age_30_to_40_range)\n",
    "print(\"The after entropy of the attribute age,when greater than 40: \",entropy_after_age_greater_40)\n"
   ]
  },
  {
   "cell_type": "code",
   "execution_count": 13,
   "id": "621f5cae",
   "metadata": {},
   "outputs": [
    {
     "name": "stdout",
     "output_type": "stream",
     "text": [
      "The information gain of attribute age,when less than equal to 30: 0.6044695448596915\n",
      "The information gain of attribute age,of range of 31 ro 40: 0.6165146918333079\n",
      "The information gain of attribute age,when greater than 40: 0.6044695448596915\n"
     ]
    }
   ],
   "source": [
    "Information_gain_lessthan_30 = Informationgain(attribute_of_age,'<=30')       #Information gain for <=30\n",
    "Information_gain_30_to_40_range = Informationgain(attribute_of_age,'31...40') #Information gain for 31...40\n",
    "Information_gain_greater_40 = Informationgain(attribute_of_age,'>40')         #Information gain for >40\n",
    "\n",
    "print(\"The information gain of attribute age,when less than equal to 30:\",Information_gain_lessthan_30)\n",
    "print(\"The information gain of attribute age,of range of 31 ro 40:\",Information_gain_30_to_40_range)\n",
    "print(\"The information gain of attribute age,when greater than 40:\",Information_gain_greater_40)"
   ]
  }
 ],
 "metadata": {
  "kernelspec": {
   "display_name": "Python 3 (ipykernel)",
   "language": "python",
   "name": "python3"
  },
  "language_info": {
   "codemirror_mode": {
    "name": "ipython",
    "version": 3
   },
   "file_extension": ".py",
   "mimetype": "text/x-python",
   "name": "python",
   "nbconvert_exporter": "python",
   "pygments_lexer": "ipython3",
   "version": "3.9.7"
  }
 },
 "nbformat": 4,
 "nbformat_minor": 5
}
